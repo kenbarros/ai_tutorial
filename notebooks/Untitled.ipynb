{
 "cells": [
  {
   "cell_type": "code",
   "execution_count": null,
   "id": "63ad4722-0caf-4dff-bcd9-6c89f9670e45",
   "metadata": {},
   "outputs": [],
   "source": [
    "upload or clone minh repo for pytorch\n",
    "\n",
    "#tensorflow and pytroch\n",
    "\n",
    "tensor is a matrix \n",
    "\n",
    "device = mps\n",
    "\n",
    "git stash \n",
    "git pull\n",
    "git status\n",
    "git stash pop\n"
   ]
  }
 ],
 "metadata": {
  "kernelspec": {
   "display_name": "Python 3 (ipykernel)",
   "language": "python",
   "name": "python3"
  },
  "language_info": {
   "codemirror_mode": {
    "name": "ipython",
    "version": 3
   },
   "file_extension": ".py",
   "mimetype": "text/x-python",
   "name": "python",
   "nbconvert_exporter": "python",
   "pygments_lexer": "ipython3",
   "version": "3.8.7"
  }
 },
 "nbformat": 4,
 "nbformat_minor": 5
}
